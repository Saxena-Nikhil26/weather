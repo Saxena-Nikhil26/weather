{
 "cells": [
  {
   "cell_type": "code",
   "execution_count": 59,
   "metadata": {},
   "outputs": [],
   "source": [
    "import pandas as pd\n",
    "import numpy as np\n",
    "from sklearn import preprocessing"
   ]
  },
  {
   "cell_type": "code",
   "execution_count": 60,
   "metadata": {},
   "outputs": [],
   "source": [
    "df = pd.read_csv('weather_data.csv')"
   ]
  },
  {
   "cell_type": "code",
   "execution_count": 61,
   "metadata": {},
   "outputs": [],
   "source": [
    "def position():\n",
    "    arr = df._conds.unique()\n",
    "    a = []\n",
    "    for i in range(len(arr)):\n",
    "        a.append((arr[i],i))\n",
    "    return a"
   ]
  },
  {
   "cell_type": "code",
   "execution_count": 62,
   "metadata": {},
   "outputs": [],
   "source": [
    "def f(s):\n",
    "    arr = position()\n",
    "    for i in range(len(arr)):\n",
    "        if s == arr[i][0]:\n",
    "            return arr[i][1]"
   ]
  },
  {
   "cell_type": "code",
   "execution_count": 63,
   "metadata": {},
   "outputs": [],
   "source": [
    "def f1(s):\n",
    "    return s"
   ]
  },
  {
   "cell_type": "code",
   "execution_count": 54,
   "metadata": {},
   "outputs": [],
   "source": [
    "def clear(df):\n",
    "    df.columns = ['datetime_utc','_conds','_dewptm','_fog','_hail','_heatindexm','_hum','_precipm','_pressurem','_rain','_snow','_tempm','_thunder','_tornado','_vism','_wdird','_wdire','_wgustm','_windchillm','_wspdm']\n",
    "    df['condition'] = df._conds.apply(f)\n",
    "    df._dewptm.fillna(df._dewptm.mean(),inplace = True)\n",
    "    df._heatindexm.fillna(df._heatindexm.mean(),inplace = True)\n",
    "    df._tempm.fillna(df._tempm.mean(),inplace = True)\n",
    "    df._vism.fillna(df._vism.mean(),inplace = True)\n",
    "    df._wdird.fillna(df._wdird.mean(),inplace = True)\n",
    "    df._wgustm.fillna(df._wgustm.mean(),inplace = True)\n",
    "    df._windchillm.fillna(df._windchillm.mean(),inplace = True)\n",
    "    df._wspdm.fillna(df._wspdm.mean(),inplace = True)\n",
    "    df._hum.fillna(df._hum.mean(),inplace = True)\n",
    "    df.drop('datetime_utc',axis = 1,inplace = True)\n",
    "    df.drop('_precipm',axis = 1,inplace = True)\n",
    "    df._pressurem.fillna(df._pressurem.mean(),inplace = True)\n",
    "    df.drop('_wdire',axis = 1,inplace = True)\n",
    "    df['tempratur'] = df._tempm.apply(f1)\n",
    "    df.drop('_tempm',axis = 1,inplace = True)\n",
    "    df.drop('_conds',axis = 1,inplace = True)\n",
    "    df.condition.fillna(df.condition.mean(),inplace = True)\n",
    "    data = df.to_numpy()\n",
    "    scaler = preprocessing.StandardScaler()\n",
    "    scaler.fit(data)\n",
    "    data = scaler.transform(data)\n",
    "    x = data[:,0:len(data[0])-1]\n",
    "    y = data[:,len(data[0])-1]\n",
    "    return x,y"
   ]
  },
  {
   "cell_type": "code",
   "execution_count": 55,
   "metadata": {},
   "outputs": [],
   "source": [
    "x,y = clear(df)"
   ]
  },
  {
   "cell_type": "code",
   "execution_count": 56,
   "metadata": {},
   "outputs": [],
   "source": [
    "from sklearn.linear_model import LinearRegression\n",
    "alg1 = LinearRegression()"
   ]
  },
  {
   "cell_type": "code",
   "execution_count": 57,
   "metadata": {},
   "outputs": [
    {
     "data": {
      "text/plain": [
       "LinearRegression(copy_X=True, fit_intercept=True, n_jobs=None,\n",
       "         normalize=False)"
      ]
     },
     "execution_count": 57,
     "metadata": {},
     "output_type": "execute_result"
    }
   ],
   "source": [
    "alg1.fit(x,y)   # Algorithm for linear Regression"
   ]
  },
  {
   "cell_type": "code",
   "execution_count": 58,
   "metadata": {},
   "outputs": [
    {
     "name": "stderr",
     "output_type": "stream",
     "text": [
      "C:\\Users\\Nikhil Saxena\\Anaconda3\\lib\\site-packages\\sklearn\\ensemble\\forest.py:246: FutureWarning: The default value of n_estimators will change from 10 in version 0.20 to 100 in 0.22.\n",
      "  \"10 in version 0.20 to 100 in 0.22.\", FutureWarning)\n"
     ]
    },
    {
     "data": {
      "text/plain": [
       "RandomForestRegressor(bootstrap=True, criterion='mse', max_depth=6,\n",
       "           max_features='auto', max_leaf_nodes=None,\n",
       "           min_impurity_decrease=0.0, min_impurity_split=None,\n",
       "           min_samples_leaf=1, min_samples_split=2,\n",
       "           min_weight_fraction_leaf=0.0, n_estimators=10, n_jobs=None,\n",
       "           oob_score=False, random_state=None, verbose=0, warm_start=False)"
      ]
     },
     "execution_count": 58,
     "metadata": {},
     "output_type": "execute_result"
    }
   ],
   "source": [
    "from sklearn.ensemble import RandomForestRegressor\n",
    "clf = RandomForestRegressor(max_depth = 6)\n",
    "clf.fit(x,y)"
   ]
  },
  {
   "cell_type": "code",
   "execution_count": null,
   "metadata": {},
   "outputs": [],
   "source": []
  }
 ],
 "metadata": {
  "kernelspec": {
   "display_name": "Python 3",
   "language": "python",
   "name": "python3"
  },
  "language_info": {
   "codemirror_mode": {
    "name": "ipython",
    "version": 3
   },
   "file_extension": ".py",
   "mimetype": "text/x-python",
   "name": "python",
   "nbconvert_exporter": "python",
   "pygments_lexer": "ipython3",
   "version": "3.7.3"
  }
 },
 "nbformat": 4,
 "nbformat_minor": 2
}
